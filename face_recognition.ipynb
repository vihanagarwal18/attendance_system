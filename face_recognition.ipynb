{
 "cells": [
  {
   "cell_type": "code",
   "execution_count": 2,
   "metadata": {},
   "outputs": [],
   "source": [
    "import face_recognition\n",
    "import numpy as np\n",
    "from PIL import Image, ImageDraw\n",
    "from IPython.display import display\n",
    "#from google.colab.patches import cv2_imshow\n",
    "import cv2\n",
    "from datetime import datetime\n",
    "import csv\n",
    "import os\n",
    "\n",
    "known_face_encodings = []\n",
    "known_face_names = []"
   ]
  },
  {
   "cell_type": "code",
   "execution_count": 3,
   "metadata": {},
   "outputs": [],
   "source": [
    "face_1 = face_recognition.load_image_file(\"training_images/elon.jpg\")\n",
    "face_1_encoding = face_recognition.face_encodings(face_1)[0]\n",
    "\n",
    "face_2 = face_recognition.load_image_file(\"training_images/donald_trump.jpg\")\n",
    "face_2_encoding = face_recognition.face_encodings(face_2)[0]\n",
    "\n",
    "face_3 = face_recognition.load_image_file(\"training_images/jeffbezos.jpeg\")\n",
    "face_3_encoding = face_recognition.face_encodings(face_3)[0]\n",
    "\n",
    "known_face_encodings.append(face_1_encoding)\n",
    "known_face_names.append(\"Elon Musk\")\n",
    "known_face_encodings.append(face_2_encoding)\n",
    "known_face_names.append(\"Donald Trump\")\n",
    "known_face_encodings.append(face_3_encoding)\n",
    "known_face_names.append(\"Jeff Bezos\")\n"
   ]
  },
  {
   "cell_type": "code",
   "execution_count": 4,
   "metadata": {},
   "outputs": [],
   "source": [
    "def load_known_faces():\n",
    "    global known_face_encodings, known_face_names\n",
    "    try:\n",
    "        with open('known_faces.csv', 'r') as file:\n",
    "            csv_reader = csv.reader(file)\n",
    "            for row in csv_reader:\n",
    "                name, encoding_str = row\n",
    "                encoding = np.fromstring(encoding_str[1:-1], sep=', ')\n",
    "                known_face_names.append(name)\n",
    "                known_face_encodings.append(encoding)\n",
    "    except FileNotFoundError:\n",
    "        known_face_encodings = []\n",
    "        known_face_names = []"
   ]
  },
  {
   "cell_type": "code",
   "execution_count": 5,
   "metadata": {},
   "outputs": [],
   "source": [
    "def save_known_faces():\n",
    "    with open('known_faces.csv', 'w', newline='') as file:\n",
    "        csv_writer = csv.writer(file)\n",
    "        for name, encoding in zip(known_face_names, known_face_encodings):\n",
    "            encoding_str = np.array2string(encoding, separator=', ')\n",
    "            csv_writer.writerow([name, encoding_str])"
   ]
  },
  {
   "cell_type": "code",
   "execution_count": 6,
   "metadata": {},
   "outputs": [],
   "source": [
    "def open_camera_and_register(name):\n",
    "    #name = input(\"Enter the name of the new person: \")\n",
    "    video = cv2.VideoCapture(0)\n",
    "    while True:\n",
    "        ret, frame = video.read()\n",
    "        cv2.imshow('frame', frame)\n",
    "        k = cv2.waitKey(1)\n",
    "        if k == ord('q'):\n",
    "            break\n",
    "    video.release()\n",
    "    cv2.destroyAllWindows()\n",
    "    image_file = f\"{name}.jpg\"\n",
    "    cv2.imwrite(image_file, frame)\n",
    "    register_new_person(image_file, name)"
   ]
  },
  {
   "cell_type": "code",
   "execution_count": 7,
   "metadata": {},
   "outputs": [],
   "source": [
    "def register_new_person(image_file, name):\n",
    "    global known_face_encodings, known_face_names\n",
    "    new_face = face_recognition.load_image_file(image_file)\n",
    "    new_face_encodings = face_recognition.face_encodings(new_face)\n",
    "    if len(new_face_encodings) == 0:\n",
    "        print(\"No face found in the provided image.\")\n",
    "        return\n",
    "    # Check if the person is already registered\n",
    "    for encoding in new_face_encodings:\n",
    "        match = False\n",
    "        for known_encoding in known_face_encodings:\n",
    "            if face_recognition.compare_faces([known_encoding], encoding)[0]:\n",
    "                match = True\n",
    "                break\n",
    "        if not match:\n",
    "            known_face_encodings.append(encoding)\n",
    "            known_face_names.append(name)\n",
    "            print(f\"Registered {name}.\")\n",
    "            return\n",
    "    print(f\"{name} is already registered.\")"
   ]
  },
  {
   "cell_type": "code",
   "execution_count": 8,
   "metadata": {},
   "outputs": [],
   "source": [
    "# def makeAttendanceEntry(name):\n",
    "#     with open('attendance_list.csv', 'r+') as FILE:\n",
    "#         allLines = FILE.readlines()\n",
    "#         attendanceList = []\n",
    "#         for line in allLines:\n",
    "#             entry = line.split(',')\n",
    "#             attendanceList.append(entry[0])\n",
    "#         if name not in attendanceList:\n",
    "#             now = datetime.now()\n",
    "#             dtString = now.strftime('%d/%b/%Y, %H:%M:%S')\n",
    "#             FILE.writelines(f'\\n{name},{dtString}')\n",
    "\n",
    "def makeAttendanceEntry(name):\n",
    "    now = datetime.now()\n",
    "    dtString = now.strftime('%d/%b/%Y, %H:%M:%S')\n",
    "    \n",
    "    with open('attendance_list.csv', 'r+') as FILE:\n",
    "        allLines = FILE.readlines()\n",
    "        updatedLines = []\n",
    "        found = False\n",
    "        for line in allLines:\n",
    "            entry = line.split(',')\n",
    "            if entry[0] == name:\n",
    "                found = True\n",
    "                updatedLines.append(f'{name},{dtString}\\n')\n",
    "            else:\n",
    "                updatedLines.append(line)\n",
    "        \n",
    "        # If the name was not found, add a new entry\n",
    "        if not found:\n",
    "            updatedLines.append(f'{name},{dtString}\\n')\n",
    "        \n",
    "        FILE.seek(0)\n",
    "        FILE.truncate()\n",
    "        FILE.writelines(updatedLines)"
   ]
  },
  {
   "cell_type": "code",
   "execution_count": 9,
   "metadata": {},
   "outputs": [],
   "source": [
    "def open_camera_and_mark_attendance():\n",
    "    video = cv2.VideoCapture(0)\n",
    "    while True:\n",
    "        ret, frame = video.read()\n",
    "        face_locations = face_recognition.face_locations(frame)\n",
    "        face_encodings = face_recognition.face_encodings(frame, face_locations)\n",
    "        for face_encoding in face_encodings:\n",
    "            matches = face_recognition.compare_faces(known_face_encodings, face_encoding)\n",
    "            name = \"Unknown\"\n",
    "            if True in matches:\n",
    "                first_match_index = matches.index(True)\n",
    "                name = known_face_names[first_match_index]\n",
    "                makeAttendanceEntry(name)\n",
    "            top, right, bottom, left = face_locations[0]\n",
    "            cv2.rectangle(frame, (left, top), (right, bottom), (0, 255, 0), 3)\n",
    "            cv2.putText(frame, name, (left, top - 20), cv2.FONT_HERSHEY_SIMPLEX, 1, (0, 0, 255), 2, cv2.LINE_AA)\n",
    "        cv2.imshow('frame', frame)\n",
    "        k = cv2.waitKey(1)\n",
    "        if k == ord('q'):\n",
    "            break\n",
    "    video.release()\n",
    "    cv2.destroyAllWindows()"
   ]
  },
  {
   "cell_type": "code",
   "execution_count": 10,
   "metadata": {},
   "outputs": [],
   "source": [
    "def delete_person_from_known_faces():\n",
    "    global known_face_encodings, known_face_names\n",
    "    name_to_delete = input(\"Enter the name of the person to delete: \").strip()\n",
    "    \n",
    "    if name_to_delete in known_face_names:\n",
    "        index_to_delete = known_face_names.index(name_to_delete)\n",
    "        known_face_encodings.pop(index_to_delete)\n",
    "        known_face_names.pop(index_to_delete)\n",
    "        print(f\"{name_to_delete} has been deleted from known_faces.csv.\")\n",
    "        # Save the updated data to the CSV file\n",
    "        save_known_faces()\n",
    "    else:\n",
    "        print(f\"{name_to_delete} not found in known_faces.csv.\")"
   ]
  },
  {
   "cell_type": "code",
   "execution_count": 11,
   "metadata": {},
   "outputs": [],
   "source": [
    "load_known_faces()"
   ]
  },
  {
   "cell_type": "code",
   "execution_count": 18,
   "metadata": {},
   "outputs": [
    {
     "name": "stdout",
     "output_type": "stream",
     "text": [
      "Vihan Agarwal is already registered.\n"
     ]
    }
   ],
   "source": [
    "open_camera_and_register(\"Vihan Agarwal\")\n",
    "save_known_faces()"
   ]
  },
  {
   "cell_type": "code",
   "execution_count": 20,
   "metadata": {},
   "outputs": [],
   "source": [
    "open_camera_and_mark_attendance()\n",
    "# save_known_faces()"
   ]
  },
  {
   "cell_type": "code",
   "execution_count": 17,
   "metadata": {},
   "outputs": [
    {
     "name": "stdout",
     "output_type": "stream",
     "text": [
      "vihan Agarwal not found in known_faces.csv.\n"
     ]
    }
   ],
   "source": [
    "delete_person_from_known_faces()"
   ]
  },
  {
   "cell_type": "code",
   "execution_count": 19,
   "metadata": {},
   "outputs": [
    {
     "name": "stdout",
     "output_type": "stream",
     "text": [
      "['Elon Musk', 'Donald Trump', 'Jeff Bezos', 'Donald Trump', 'Jeff Bezos', 'vihan agarwal']\n"
     ]
    }
   ],
   "source": [
    "print(known_face_names)"
   ]
  }
 ],
 "metadata": {
  "kernelspec": {
   "display_name": "venv",
   "language": "python",
   "name": "python3"
  },
  "language_info": {
   "codemirror_mode": {
    "name": "ipython",
    "version": 3
   },
   "file_extension": ".py",
   "mimetype": "text/x-python",
   "name": "python",
   "nbconvert_exporter": "python",
   "pygments_lexer": "ipython3",
   "version": "3.11.4"
  },
  "orig_nbformat": 4
 },
 "nbformat": 4,
 "nbformat_minor": 2
}
